{
 "cells": [
  {
   "cell_type": "markdown",
   "metadata": {},
   "source": [
    "# Web APIs\n",
    "\n",
    "## 1. Consuming Web APIs\n",
    "\n",
    "(Partially adapted from https://www.dataquest.io/blog/python-api-tutorial/)\n",
    "\n",
    "* https://randomuser.me/ is a random user generator \n",
    "*\tIt has an API. Go to https://api.randomuser.me/ with your browser\n",
    "*\tYou get a JSON (JavaScript Object Notation) back. A JSON is similar to a Python dictionary.  \n",
    "*  Refresh the browser\n",
    "*\tYou can add query parameters. They are added to the URL with a ? . You then add then the parameter name = the value. More the one parameter are connected with a & e.g.\n",
    "\thttp://api.open-notify.org/iss-pass.json?lat=37.78&lon=-122.41\n",
    "\n",
    "*\t Go the documentation https://randomuser.me/documentation and check how you can get multiple users and to specify constraints on the output\n",
    "*\tGo to your browser and add parameters to https://api.randomuser.me/ so that you get 5 results of only males from the US\n",
    "\n",
    "Enter the URL of your solution:"
   ]
  },
  {
   "cell_type": "code",
   "execution_count": 1,
   "metadata": {},
   "outputs": [],
   "source": [
    "# TODO: get 5 results of only males from the US\n",
    "# Enter the URL of your solution:\n",
    "url = \"https://api.randomuser.me/?results=5&gender=male&nat=us\""
   ]
  },
  {
   "cell_type": "markdown",
   "metadata": {},
   "source": [
    "* You can also get the data from the command line. Open the command line and write\n",
    "\n",
    "```bash\n",
    "curl -s https://api.randomuser.me/\n",
    "```\n",
    "\n",
    "You can also run Bash commands directly in your Jupyter Notebook with !:"
   ]
  },
  {
   "cell_type": "code",
   "execution_count": 2,
   "metadata": {},
   "outputs": [
    {
     "name": "stdout",
     "output_type": "stream",
     "text": [
      "{\"results\":[{\"gender\":\"female\",\"name\":{\"title\":\"ms\",\"first\":\"ceyhan\",\"last\":\"yÄ±ldÄ±rÄ±m\"},\"location\":{\"street\":\"1036 vatan cd\",\"city\":\"giresun\",\"state\":\"afyonkarahisar\",\"postcode\":47078,\"coordinates\":{\"latitude\":\"73.8103\",\"longitude\":\"147.8607\"},\"timezone\":{\"offset\":\"+5:30\",\"description\":\"Bombay, Calcutta, Madras, New Delhi\"}},\"email\":\"ceyhan.yÄ±ldÄ±rÄ±m@example.com\",\"login\":{\"uuid\":\"3edb1f50-6a05-4c7b-be6f-a8339f077f37\",\"username\":\"whiteostrich570\",\"password\":\"girls\",\"salt\":\"PbtXCUS5\",\"md5\":\"2cdf21312f2f2dab2849a72e98cf2a0f\",\"sha1\":\"2d1f1174d6dbef3074b9f2a801e6d00b470ad320\",\"sha256\":\"e693f93c1c1dbc5e1fe322ff581318756c5a587297e57e61e1f449296669eb43\"},\"dob\":{\"date\":\"1955-06-08T03:47:28Z\",\"age\":63},\"registered\":{\"date\":\"2006-01-29T11:32:12Z\",\"age\":13},\"phone\":\"(904)-492-4904\",\"cell\":\"(726)-018-3096\",\"id\":{\"name\":\"\",\"value\":null},\"picture\":{\"large\":\"https://randomuser.me/api/portraits/women/55.jpg\",\"medium\":\"https://randomuser.me/api/portraits/med/women/55.jpg\",\"thumbnail\":\"https://randomuser.me/api/portraits/thumb/women/55.jpg\"},\"nat\":\"TR\"}],\"info\":{\"seed\":\"05d89b09b874132f\",\"results\":1,\"page\":1,\"version\":\"1.2\"}}\n"
     ]
    }
   ],
   "source": [
    "!curl -s https://api.randomuser.me/"
   ]
  },
  {
   "cell_type": "markdown",
   "metadata": {},
   "source": [
    "* Import the two libraries \n",
    "    * `requests` and \n",
    "    * `json`. \n",
    "\n",
    "You can find the documentation for the requests package here:\n",
    " http://www.python-requests.org/en/latest/ \n",
    " "
   ]
  },
  {
   "cell_type": "code",
   "execution_count": 3,
   "metadata": {
    "scrolled": true
   },
   "outputs": [],
   "source": [
    "import requests"
   ]
  },
  {
   "cell_type": "markdown",
   "metadata": {},
   "source": [
    "* With the requests package you can call a Web API with the URL and the method get"
   ]
  },
  {
   "cell_type": "code",
   "execution_count": 4,
   "metadata": {},
   "outputs": [],
   "source": [
    "response = requests.get(\"https://api.randomuser.me/\")"
   ]
  },
  {
   "cell_type": "markdown",
   "metadata": {},
   "source": [
    "* Print the status code of the request"
   ]
  },
  {
   "cell_type": "code",
   "execution_count": 5,
   "metadata": {},
   "outputs": [
    {
     "name": "stdout",
     "output_type": "stream",
     "text": [
      "200\n"
     ]
    }
   ],
   "source": [
    "print(response.status_code)"
   ]
  },
  {
   "cell_type": "markdown",
   "metadata": {},
   "source": [
    "**The meaning of the status codes are:**\n",
    "* 200: everything went okay, and the result has been returned (if any)\n",
    "* 301: the server is redirecting you to a different endpoint. This can happen when a company switches domain names, or an endpoint name is changed.\n",
    "* 401: the server thinks you're not authenticated. This happens when you don't send the right credentials to access an API.\n",
    "* 400: the server thinks you made a bad request. This can happen when you don't send along the right data, among other things.\n",
    "* 403: the resource you're trying to access is forbidden – you don't have the right permissions to see it.\n",
    "* 404: the resource you tried to access wasn't found on the server.\n"
   ]
  },
  {
   "cell_type": "markdown",
   "metadata": {},
   "source": [
    "You can specify the query parameters for a URL with a Python dictionary like this:\n",
    "```python\n",
    "parameters = {\"lat\": 37.78, \"lon\": -122.41}\n",
    "```\n",
    "\n",
    "And pass the parameter to the request like this\n",
    "```python\n",
    "response = requests.get(\"http://api.open-notify.org/iss-pass.json\", params=parameters)\n",
    "```\n",
    "This is the same as \n",
    "```python\n",
    "response = requests.get(\"http://api.open-notify.org/iss-pass.json?lat=37.78&lon=-122.41\")\n",
    "```\n",
    "\n",
    "Alternatively you could build also the URL with the parameters by yourself with string concatenation. \n",
    "\n",
    "* Get with the request method 10 results of only males from the US.\n",
    "\n"
   ]
  },
  {
   "cell_type": "code",
   "execution_count": 6,
   "metadata": {},
   "outputs": [
    {
     "name": "stdout",
     "output_type": "stream",
     "text": [
      "200\n"
     ]
    }
   ],
   "source": [
    "# TODO: Get with the request method 10 results of only males from the US.\n",
    "parameters = { \"results\": 10, \"gender\": \"male\", \"nat\": \"us\"}\n",
    "url = \"https://api.randomuser.me\"\n",
    "response = requests.get(url, params=parameters)\n",
    "print(response.status_code)"
   ]
  },
  {
   "cell_type": "markdown",
   "metadata": {},
   "source": [
    "* You can show the result of the request with the method text"
   ]
  },
  {
   "cell_type": "code",
   "execution_count": 7,
   "metadata": {
    "scrolled": true
   },
   "outputs": [
    {
     "data": {
      "text/plain": [
       "'{\"results\":[{\"gender\":\"male\",\"name\":{\"title\":\"mr\",\"first\":\"bernard\",\"last\":\"willis\"},\"location\":{\"street\":\"8466 camden ave\",\"city\":\"miramar\",\"state\":\"new york\",\"postcode\":32279,\"coordinates\":{\"latitude\":\"-54.9621\",\"longitude\":\"-149.4567\"},\"timezone\":{\"offset\":\"+1:00\",\"description\":\"Brussels, Copenhagen, Madrid, Paris\"}},\"email\":\"bernard.willis@example.com\",\"login\":{\"uuid\":\"f7d19a36-359d-4773-bccf-bcca596fc3da\",\"username\":\"smallrabbit958\",\"password\":\"report\",\"salt\":\"zpwL3DCo\",\"md5\":\"2b20eda199d937ac3680754b755530a6\",\"sha1\":\"f81faa48575549704cbce1b445a99d0489992e07\",\"sha256\":\"0c8d93973444c6b49267514759b3fd3a970b606d2420ff7c874034c7a98f411f\"},\"dob\":{\"date\":\"1983-11-23T00:13:10Z\",\"age\":35},\"registered\":{\"date\":\"2014-08-26T02:23:50Z\",\"age\":4},\"phone\":\"(635)-397-2861\",\"cell\":\"(556)-990-5466\",\"id\":{\"name\":\"SSN\",\"value\":\"229-63-5979\"},\"picture\":{\"large\":\"https://randomuser.me/api/portraits/men/79.jpg\",\"medium\":\"https://randomuser.me/api/portraits/med/men/79.jpg\",\"thumbnail\":\"https://randomuser.me/api/portraits/thumb/men/79.jpg\"},\"nat\":\"US\"},{\"gender\":\"male\",\"name\":{\"title\":\"mr\",\"first\":\"benjamin\",\"last\":\"craig\"},\"location\":{\"street\":\"58 paddock way\",\"city\":\"norfolk\",\"state\":\"vermont\",\"postcode\":36302,\"coordinates\":{\"latitude\":\"-66.1418\",\"longitude\":\"0.6463\"},\"timezone\":{\"offset\":\"-5:00\",\"description\":\"Eastern Time (US & Canada), Bogota, Lima\"}},\"email\":\"benjamin.craig@example.com\",\"login\":{\"uuid\":\"9aef187a-933e-4a59-bcf2-124099e444d3\",\"username\":\"silverfish933\",\"password\":\"chantal\",\"salt\":\"qsZoFT2Y\",\"md5\":\"1c076de2494764b7f7f4664ae8f0ec99\",\"sha1\":\"76ba5ae8ebc969f713fb880e202cef2aa684ef15\",\"sha256\":\"3b50847172c09972e13ea370e83c48c2c3a27a30618b662a8ebe68a23552ca5f\"},\"dob\":{\"date\":\"1971-10-12T15:56:11Z\",\"age\":47},\"registered\":{\"date\":\"2010-05-31T14:00:55Z\",\"age\":8},\"phone\":\"(643)-417-2596\",\"cell\":\"(623)-978-7752\",\"id\":{\"name\":\"SSN\",\"value\":\"818-51-6462\"},\"picture\":{\"large\":\"https://randomuser.me/api/portraits/men/74.jpg\",\"medium\":\"https://randomuser.me/api/portraits/med/men/74.jpg\",\"thumbnail\":\"https://randomuser.me/api/portraits/thumb/men/74.jpg\"},\"nat\":\"US\"},{\"gender\":\"male\",\"name\":{\"title\":\"mr\",\"first\":\"warren\",\"last\":\"price\"},\"location\":{\"street\":\"1222 wycliff ave\",\"city\":\"ennis\",\"state\":\"missouri\",\"postcode\":14835,\"coordinates\":{\"latitude\":\"1.8454\",\"longitude\":\"83.2710\"},\"timezone\":{\"offset\":\"-11:00\",\"description\":\"Midway Island, Samoa\"}},\"email\":\"warren.price@example.com\",\"login\":{\"uuid\":\"dd3c4e88-ba75-471c-b8e9-946ebdbc83d2\",\"username\":\"orangekoala425\",\"password\":\"doit\",\"salt\":\"MXq8JSxs\",\"md5\":\"c05b1579a6abc8c349441c467fbc2fdc\",\"sha1\":\"1e0fb6b7c1ea8c8eb90de3fbd6b11a0326dc0348\",\"sha256\":\"5d6b64dca6cdefa21093c469249835cf5c77696d462f2c280d3a9da14237b47c\"},\"dob\":{\"date\":\"1946-07-20T01:59:08Z\",\"age\":72},\"registered\":{\"date\":\"2015-07-06T17:21:00Z\",\"age\":3},\"phone\":\"(929)-845-1872\",\"cell\":\"(816)-536-2359\",\"id\":{\"name\":\"SSN\",\"value\":\"134-77-0108\"},\"picture\":{\"large\":\"https://randomuser.me/api/portraits/men/88.jpg\",\"medium\":\"https://randomuser.me/api/portraits/med/men/88.jpg\",\"thumbnail\":\"https://randomuser.me/api/portraits/thumb/men/88.jpg\"},\"nat\":\"US\"},{\"gender\":\"male\",\"name\":{\"title\":\"mr\",\"first\":\"rene\",\"last\":\"steward\"},\"location\":{\"street\":\"2595 lakeshore rd\",\"city\":\"helena\",\"state\":\"alabama\",\"postcode\":36971,\"coordinates\":{\"latitude\":\"54.8948\",\"longitude\":\"35.6127\"},\"timezone\":{\"offset\":\"+6:00\",\"description\":\"Almaty, Dhaka, Colombo\"}},\"email\":\"rene.steward@example.com\",\"login\":{\"uuid\":\"296a31fb-01f4-4709-84f9-b5449650def3\",\"username\":\"silverostrich611\",\"password\":\"closeup\",\"salt\":\"2N0aULhp\",\"md5\":\"9a89f41e919898bf0fa63a5b85b28125\",\"sha1\":\"7db10f1cc8a537db837c9062cbce4a3f3127e81e\",\"sha256\":\"275313c83b2d5c3bf98f4a3aeda8c130d4493b245dfcde445aa063a4414a7710\"},\"dob\":{\"date\":\"1985-11-22T13:06:35Z\",\"age\":33},\"registered\":{\"date\":\"2015-01-29T10:55:42Z\",\"age\":4},\"phone\":\"(958)-451-4865\",\"cell\":\"(363)-179-1841\",\"id\":{\"name\":\"SSN\",\"value\":\"199-82-2777\"},\"picture\":{\"large\":\"https://randomuser.me/api/portraits/men/4.jpg\",\"medium\":\"https://randomuser.me/api/portraits/med/men/4.jpg\",\"thumbnail\":\"https://randomuser.me/api/portraits/thumb/men/4.jpg\"},\"nat\":\"US\"},{\"gender\":\"male\",\"name\":{\"title\":\"mr\",\"first\":\"wallace\",\"last\":\"stone\"},\"location\":{\"street\":\"8824 fairview st\",\"city\":\"fargo\",\"state\":\"west virginia\",\"postcode\":15491,\"coordinates\":{\"latitude\":\"81.3789\",\"longitude\":\"128.5839\"},\"timezone\":{\"offset\":\"-12:00\",\"description\":\"Eniwetok, Kwajalein\"}},\"email\":\"wallace.stone@example.com\",\"login\":{\"uuid\":\"782ec3e2-a94a-4468-b266-bc121d8cdc46\",\"username\":\"greenwolf699\",\"password\":\"onetime\",\"salt\":\"QG9qwtGy\",\"md5\":\"8b275c5a49e38a80d8aa5fd9022e0759\",\"sha1\":\"37d05ddb5f8ee9593d64801c110d1ead2a7a1d04\",\"sha256\":\"0c059917feb27f96eb54f8015dbdaf2e18b5031a258671e1cba86ac0d6cbc69c\"},\"dob\":{\"date\":\"1969-10-05T12:24:30Z\",\"age\":49},\"registered\":{\"date\":\"2016-11-03T01:22:34Z\",\"age\":2},\"phone\":\"(824)-484-7899\",\"cell\":\"(622)-731-3871\",\"id\":{\"name\":\"SSN\",\"value\":\"781-32-5809\"},\"picture\":{\"large\":\"https://randomuser.me/api/portraits/men/72.jpg\",\"medium\":\"https://randomuser.me/api/portraits/med/men/72.jpg\",\"thumbnail\":\"https://randomuser.me/api/portraits/thumb/men/72.jpg\"},\"nat\":\"US\"},{\"gender\":\"male\",\"name\":{\"title\":\"mr\",\"first\":\"julio\",\"last\":\"tucker\"},\"location\":{\"street\":\"2127 shady ln dr\",\"city\":\"coppell\",\"state\":\"rhode island\",\"postcode\":14550,\"coordinates\":{\"latitude\":\"-17.4015\",\"longitude\":\"-176.2962\"},\"timezone\":{\"offset\":\"-7:00\",\"description\":\"Mountain Time (US & Canada)\"}},\"email\":\"julio.tucker@example.com\",\"login\":{\"uuid\":\"4daf0c91-33ca-49cc-8f9e-7827ca85b42c\",\"username\":\"yellowbutterfly797\",\"password\":\"bugger\",\"salt\":\"uAcvHC0h\",\"md5\":\"c4b0c9365251bbb8bab30146714a80e2\",\"sha1\":\"c3492ce25e6533eaf56e48b7c86e41a97797c8c7\",\"sha256\":\"c2354a988647af72743eb091f012f0979b137ed79f406ee51962acaa968c2c12\"},\"dob\":{\"date\":\"1994-10-11T20:37:32Z\",\"age\":24},\"registered\":{\"date\":\"2015-09-21T05:53:34Z\",\"age\":3},\"phone\":\"(084)-995-6435\",\"cell\":\"(931)-462-9116\",\"id\":{\"name\":\"SSN\",\"value\":\"642-11-1810\"},\"picture\":{\"large\":\"https://randomuser.me/api/portraits/men/36.jpg\",\"medium\":\"https://randomuser.me/api/portraits/med/men/36.jpg\",\"thumbnail\":\"https://randomuser.me/api/portraits/thumb/men/36.jpg\"},\"nat\":\"US\"},{\"gender\":\"male\",\"name\":{\"title\":\"mr\",\"first\":\"freddie\",\"last\":\"wood\"},\"location\":{\"street\":\"913 cherry st\",\"city\":\"visalia\",\"state\":\"nebraska\",\"postcode\":36608,\"coordinates\":{\"latitude\":\"73.7467\",\"longitude\":\"-140.5487\"},\"timezone\":{\"offset\":\"+8:00\",\"description\":\"Beijing, Perth, Singapore, Hong Kong\"}},\"email\":\"freddie.wood@example.com\",\"login\":{\"uuid\":\"e622fed3-4bbb-46fe-8e44-f0a8f45586a6\",\"username\":\"yellowbird598\",\"password\":\"suicide\",\"salt\":\"eeHZhWmO\",\"md5\":\"40cf8290b952b305f84e515f01efab90\",\"sha1\":\"5a3644871730476e5d7b2462625eb86a87be66ec\",\"sha256\":\"b4dd0c1efffa95c73d6c3476d110ae52c11a2c03bd88e3c91844f6dfcf4ce3d6\"},\"dob\":{\"date\":\"1949-03-02T07:47:24Z\",\"age\":70},\"registered\":{\"date\":\"2004-11-22T22:26:49Z\",\"age\":14},\"phone\":\"(153)-389-7802\",\"cell\":\"(179)-535-8704\",\"id\":{\"name\":\"SSN\",\"value\":\"439-19-7708\"},\"picture\":{\"large\":\"https://randomuser.me/api/portraits/men/75.jpg\",\"medium\":\"https://randomuser.me/api/portraits/med/men/75.jpg\",\"thumbnail\":\"https://randomuser.me/api/portraits/thumb/men/75.jpg\"},\"nat\":\"US\"},{\"gender\":\"male\",\"name\":{\"title\":\"mr\",\"first\":\"bill\",\"last\":\"reid\"},\"location\":{\"street\":\"7490 shady ln dr\",\"city\":\"joliet\",\"state\":\"maryland\",\"postcode\":40584,\"coordinates\":{\"latitude\":\"81.6247\",\"longitude\":\"59.6962\"},\"timezone\":{\"offset\":\"-4:00\",\"description\":\"Atlantic Time (Canada), Caracas, La Paz\"}},\"email\":\"bill.reid@example.com\",\"login\":{\"uuid\":\"7ebd467d-6bde-4fa4-bc52-5eb2bd3538d1\",\"username\":\"blackpeacock914\",\"password\":\"mongoose\",\"salt\":\"LzvmOi8a\",\"md5\":\"e08c539d431a5fe9489919bd1a63a6d3\",\"sha1\":\"6bab501891fe20040d1230b02e20a1f96729cf3a\",\"sha256\":\"9eff84ea100acb7ef74f6c6a34bff102f12dc51f28a43a7c6ec8fe3e9fc71b1b\"},\"dob\":{\"date\":\"1955-05-13T02:31:29Z\",\"age\":63},\"registered\":{\"date\":\"2008-10-02T08:08:23Z\",\"age\":10},\"phone\":\"(617)-122-3968\",\"cell\":\"(558)-026-5568\",\"id\":{\"name\":\"SSN\",\"value\":\"769-25-5900\"},\"picture\":{\"large\":\"https://randomuser.me/api/portraits/men/61.jpg\",\"medium\":\"https://randomuser.me/api/portraits/med/men/61.jpg\",\"thumbnail\":\"https://randomuser.me/api/portraits/thumb/men/61.jpg\"},\"nat\":\"US\"},{\"gender\":\"male\",\"name\":{\"title\":\"mr\",\"first\":\"herbert\",\"last\":\"coleman\"},\"location\":{\"street\":\"3723 adams st\",\"city\":\"des moines\",\"state\":\"connecticut\",\"postcode\":86219,\"coordinates\":{\"latitude\":\"80.4966\",\"longitude\":\"-37.6379\"},\"timezone\":{\"offset\":\"-6:00\",\"description\":\"Central Time (US & Canada), Mexico City\"}},\"email\":\"herbert.coleman@example.com\",\"login\":{\"uuid\":\"8e33b3c0-5605-487f-92f1-cfd50e7ff8b6\",\"username\":\"lazyladybug704\",\"password\":\"1974\",\"salt\":\"XUJhOtgF\",\"md5\":\"21421acc08cdc533f0170af5c1b04373\",\"sha1\":\"27c4b97a3d6c4140b933cee90b46210efa60c8d1\",\"sha256\":\"aa7ae81be46b8d26c84a3091eae100bb986ebce277d8f08ab63ba377eb93209b\"},\"dob\":{\"date\":\"1961-09-25T08:27:44Z\",\"age\":57},\"registered\":{\"date\":\"2011-11-18T10:02:08Z\",\"age\":7},\"phone\":\"(598)-626-3152\",\"cell\":\"(862)-196-7841\",\"id\":{\"name\":\"SSN\",\"value\":\"371-15-4357\"},\"picture\":{\"large\":\"https://randomuser.me/api/portraits/men/12.jpg\",\"medium\":\"https://randomuser.me/api/portraits/med/men/12.jpg\",\"thumbnail\":\"https://randomuser.me/api/portraits/thumb/men/12.jpg\"},\"nat\":\"US\"},{\"gender\":\"male\",\"name\":{\"title\":\"mr\",\"first\":\"wyatt\",\"last\":\"nguyen\"},\"location\":{\"street\":\"3183 e pecan st\",\"city\":\"frisco\",\"state\":\"nebraska\",\"postcode\":75254,\"coordinates\":{\"latitude\":\"-31.2207\",\"longitude\":\"5.9166\"},\"timezone\":{\"offset\":\"+3:00\",\"description\":\"Baghdad, Riyadh, Moscow, St. Petersburg\"}},\"email\":\"wyatt.nguyen@example.com\",\"login\":{\"uuid\":\"f526a4f2-2aa7-4322-ad31-e5fd11f84118\",\"username\":\"happybear987\",\"password\":\"otis\",\"salt\":\"jm2VpFZQ\",\"md5\":\"ee00969587ac7cc55fd65b747467255d\",\"sha1\":\"06780eb97886d09b3f2aa36240901d1776362a83\",\"sha256\":\"755cae3d6c97aa8cf58e453bcabfa95005d8785cb67f2c6d3607fe1ab80dd7c3\"},\"dob\":{\"date\":\"1979-01-12T12:37:47Z\",\"age\":40},\"registered\":{\"date\":\"2006-12-24T12:29:15Z\",\"age\":12},\"phone\":\"(012)-094-7455\",\"cell\":\"(553)-799-3797\",\"id\":{\"name\":\"SSN\",\"value\":\"084-39-2567\"},\"picture\":{\"large\":\"https://randomuser.me/api/portraits/men/2.jpg\",\"medium\":\"https://randomuser.me/api/portraits/med/men/2.jpg\",\"thumbnail\":\"https://randomuser.me/api/portraits/thumb/men/2.jpg\"},\"nat\":\"US\"}],\"info\":{\"seed\":\"e3573cbe224009f5\",\"results\":10,\"page\":1,\"version\":\"1.2\"}}'"
      ]
     },
     "execution_count": 7,
     "metadata": {},
     "output_type": "execute_result"
    }
   ],
   "source": [
    "response.text"
   ]
  },
  {
   "cell_type": "markdown",
   "metadata": {},
   "source": [
    "* You can convert the data from JSON to a Python dictionary with the package JSON"
   ]
  },
  {
   "cell_type": "code",
   "execution_count": 8,
   "metadata": {},
   "outputs": [],
   "source": [
    "import json\n",
    "data = json.loads(response.text)"
   ]
  },
  {
   "cell_type": "markdown",
   "metadata": {},
   "source": [
    "* Check the type of variable data"
   ]
  },
  {
   "cell_type": "code",
   "execution_count": 9,
   "metadata": {},
   "outputs": [
    {
     "name": "stdout",
     "output_type": "stream",
     "text": [
      "<class 'dict'>\n"
     ]
    }
   ],
   "source": [
    "print(type(data))"
   ]
  },
  {
   "cell_type": "code",
   "execution_count": 10,
   "metadata": {
    "scrolled": true
   },
   "outputs": [
    {
     "name": "stdout",
     "output_type": "stream",
     "text": [
      "{'results': [{'gender': 'male', 'name': {'title': 'mr', 'first': 'bernard', 'last': 'willis'}, 'location': {'street': '8466 camden ave', 'city': 'miramar', 'state': 'new york', 'postcode': 32279, 'coordinates': {'latitude': '-54.9621', 'longitude': '-149.4567'}, 'timezone': {'offset': '+1:00', 'description': 'Brussels, Copenhagen, Madrid, Paris'}}, 'email': 'bernard.willis@example.com', 'login': {'uuid': 'f7d19a36-359d-4773-bccf-bcca596fc3da', 'username': 'smallrabbit958', 'password': 'report', 'salt': 'zpwL3DCo', 'md5': '2b20eda199d937ac3680754b755530a6', 'sha1': 'f81faa48575549704cbce1b445a99d0489992e07', 'sha256': '0c8d93973444c6b49267514759b3fd3a970b606d2420ff7c874034c7a98f411f'}, 'dob': {'date': '1983-11-23T00:13:10Z', 'age': 35}, 'registered': {'date': '2014-08-26T02:23:50Z', 'age': 4}, 'phone': '(635)-397-2861', 'cell': '(556)-990-5466', 'id': {'name': 'SSN', 'value': '229-63-5979'}, 'picture': {'large': 'https://randomuser.me/api/portraits/men/79.jpg', 'medium': 'https://randomuser.me/api/portraits/med/men/79.jpg', 'thumbnail': 'https://randomuser.me/api/portraits/thumb/men/79.jpg'}, 'nat': 'US'}, {'gender': 'male', 'name': {'title': 'mr', 'first': 'benjamin', 'last': 'craig'}, 'location': {'street': '58 paddock way', 'city': 'norfolk', 'state': 'vermont', 'postcode': 36302, 'coordinates': {'latitude': '-66.1418', 'longitude': '0.6463'}, 'timezone': {'offset': '-5:00', 'description': 'Eastern Time (US & Canada), Bogota, Lima'}}, 'email': 'benjamin.craig@example.com', 'login': {'uuid': '9aef187a-933e-4a59-bcf2-124099e444d3', 'username': 'silverfish933', 'password': 'chantal', 'salt': 'qsZoFT2Y', 'md5': '1c076de2494764b7f7f4664ae8f0ec99', 'sha1': '76ba5ae8ebc969f713fb880e202cef2aa684ef15', 'sha256': '3b50847172c09972e13ea370e83c48c2c3a27a30618b662a8ebe68a23552ca5f'}, 'dob': {'date': '1971-10-12T15:56:11Z', 'age': 47}, 'registered': {'date': '2010-05-31T14:00:55Z', 'age': 8}, 'phone': '(643)-417-2596', 'cell': '(623)-978-7752', 'id': {'name': 'SSN', 'value': '818-51-6462'}, 'picture': {'large': 'https://randomuser.me/api/portraits/men/74.jpg', 'medium': 'https://randomuser.me/api/portraits/med/men/74.jpg', 'thumbnail': 'https://randomuser.me/api/portraits/thumb/men/74.jpg'}, 'nat': 'US'}, {'gender': 'male', 'name': {'title': 'mr', 'first': 'warren', 'last': 'price'}, 'location': {'street': '1222 wycliff ave', 'city': 'ennis', 'state': 'missouri', 'postcode': 14835, 'coordinates': {'latitude': '1.8454', 'longitude': '83.2710'}, 'timezone': {'offset': '-11:00', 'description': 'Midway Island, Samoa'}}, 'email': 'warren.price@example.com', 'login': {'uuid': 'dd3c4e88-ba75-471c-b8e9-946ebdbc83d2', 'username': 'orangekoala425', 'password': 'doit', 'salt': 'MXq8JSxs', 'md5': 'c05b1579a6abc8c349441c467fbc2fdc', 'sha1': '1e0fb6b7c1ea8c8eb90de3fbd6b11a0326dc0348', 'sha256': '5d6b64dca6cdefa21093c469249835cf5c77696d462f2c280d3a9da14237b47c'}, 'dob': {'date': '1946-07-20T01:59:08Z', 'age': 72}, 'registered': {'date': '2015-07-06T17:21:00Z', 'age': 3}, 'phone': '(929)-845-1872', 'cell': '(816)-536-2359', 'id': {'name': 'SSN', 'value': '134-77-0108'}, 'picture': {'large': 'https://randomuser.me/api/portraits/men/88.jpg', 'medium': 'https://randomuser.me/api/portraits/med/men/88.jpg', 'thumbnail': 'https://randomuser.me/api/portraits/thumb/men/88.jpg'}, 'nat': 'US'}, {'gender': 'male', 'name': {'title': 'mr', 'first': 'rene', 'last': 'steward'}, 'location': {'street': '2595 lakeshore rd', 'city': 'helena', 'state': 'alabama', 'postcode': 36971, 'coordinates': {'latitude': '54.8948', 'longitude': '35.6127'}, 'timezone': {'offset': '+6:00', 'description': 'Almaty, Dhaka, Colombo'}}, 'email': 'rene.steward@example.com', 'login': {'uuid': '296a31fb-01f4-4709-84f9-b5449650def3', 'username': 'silverostrich611', 'password': 'closeup', 'salt': '2N0aULhp', 'md5': '9a89f41e919898bf0fa63a5b85b28125', 'sha1': '7db10f1cc8a537db837c9062cbce4a3f3127e81e', 'sha256': '275313c83b2d5c3bf98f4a3aeda8c130d4493b245dfcde445aa063a4414a7710'}, 'dob': {'date': '1985-11-22T13:06:35Z', 'age': 33}, 'registered': {'date': '2015-01-29T10:55:42Z', 'age': 4}, 'phone': '(958)-451-4865', 'cell': '(363)-179-1841', 'id': {'name': 'SSN', 'value': '199-82-2777'}, 'picture': {'large': 'https://randomuser.me/api/portraits/men/4.jpg', 'medium': 'https://randomuser.me/api/portraits/med/men/4.jpg', 'thumbnail': 'https://randomuser.me/api/portraits/thumb/men/4.jpg'}, 'nat': 'US'}, {'gender': 'male', 'name': {'title': 'mr', 'first': 'wallace', 'last': 'stone'}, 'location': {'street': '8824 fairview st', 'city': 'fargo', 'state': 'west virginia', 'postcode': 15491, 'coordinates': {'latitude': '81.3789', 'longitude': '128.5839'}, 'timezone': {'offset': '-12:00', 'description': 'Eniwetok, Kwajalein'}}, 'email': 'wallace.stone@example.com', 'login': {'uuid': '782ec3e2-a94a-4468-b266-bc121d8cdc46', 'username': 'greenwolf699', 'password': 'onetime', 'salt': 'QG9qwtGy', 'md5': '8b275c5a49e38a80d8aa5fd9022e0759', 'sha1': '37d05ddb5f8ee9593d64801c110d1ead2a7a1d04', 'sha256': '0c059917feb27f96eb54f8015dbdaf2e18b5031a258671e1cba86ac0d6cbc69c'}, 'dob': {'date': '1969-10-05T12:24:30Z', 'age': 49}, 'registered': {'date': '2016-11-03T01:22:34Z', 'age': 2}, 'phone': '(824)-484-7899', 'cell': '(622)-731-3871', 'id': {'name': 'SSN', 'value': '781-32-5809'}, 'picture': {'large': 'https://randomuser.me/api/portraits/men/72.jpg', 'medium': 'https://randomuser.me/api/portraits/med/men/72.jpg', 'thumbnail': 'https://randomuser.me/api/portraits/thumb/men/72.jpg'}, 'nat': 'US'}, {'gender': 'male', 'name': {'title': 'mr', 'first': 'julio', 'last': 'tucker'}, 'location': {'street': '2127 shady ln dr', 'city': 'coppell', 'state': 'rhode island', 'postcode': 14550, 'coordinates': {'latitude': '-17.4015', 'longitude': '-176.2962'}, 'timezone': {'offset': '-7:00', 'description': 'Mountain Time (US & Canada)'}}, 'email': 'julio.tucker@example.com', 'login': {'uuid': '4daf0c91-33ca-49cc-8f9e-7827ca85b42c', 'username': 'yellowbutterfly797', 'password': 'bugger', 'salt': 'uAcvHC0h', 'md5': 'c4b0c9365251bbb8bab30146714a80e2', 'sha1': 'c3492ce25e6533eaf56e48b7c86e41a97797c8c7', 'sha256': 'c2354a988647af72743eb091f012f0979b137ed79f406ee51962acaa968c2c12'}, 'dob': {'date': '1994-10-11T20:37:32Z', 'age': 24}, 'registered': {'date': '2015-09-21T05:53:34Z', 'age': 3}, 'phone': '(084)-995-6435', 'cell': '(931)-462-9116', 'id': {'name': 'SSN', 'value': '642-11-1810'}, 'picture': {'large': 'https://randomuser.me/api/portraits/men/36.jpg', 'medium': 'https://randomuser.me/api/portraits/med/men/36.jpg', 'thumbnail': 'https://randomuser.me/api/portraits/thumb/men/36.jpg'}, 'nat': 'US'}, {'gender': 'male', 'name': {'title': 'mr', 'first': 'freddie', 'last': 'wood'}, 'location': {'street': '913 cherry st', 'city': 'visalia', 'state': 'nebraska', 'postcode': 36608, 'coordinates': {'latitude': '73.7467', 'longitude': '-140.5487'}, 'timezone': {'offset': '+8:00', 'description': 'Beijing, Perth, Singapore, Hong Kong'}}, 'email': 'freddie.wood@example.com', 'login': {'uuid': 'e622fed3-4bbb-46fe-8e44-f0a8f45586a6', 'username': 'yellowbird598', 'password': 'suicide', 'salt': 'eeHZhWmO', 'md5': '40cf8290b952b305f84e515f01efab90', 'sha1': '5a3644871730476e5d7b2462625eb86a87be66ec', 'sha256': 'b4dd0c1efffa95c73d6c3476d110ae52c11a2c03bd88e3c91844f6dfcf4ce3d6'}, 'dob': {'date': '1949-03-02T07:47:24Z', 'age': 70}, 'registered': {'date': '2004-11-22T22:26:49Z', 'age': 14}, 'phone': '(153)-389-7802', 'cell': '(179)-535-8704', 'id': {'name': 'SSN', 'value': '439-19-7708'}, 'picture': {'large': 'https://randomuser.me/api/portraits/men/75.jpg', 'medium': 'https://randomuser.me/api/portraits/med/men/75.jpg', 'thumbnail': 'https://randomuser.me/api/portraits/thumb/men/75.jpg'}, 'nat': 'US'}, {'gender': 'male', 'name': {'title': 'mr', 'first': 'bill', 'last': 'reid'}, 'location': {'street': '7490 shady ln dr', 'city': 'joliet', 'state': 'maryland', 'postcode': 40584, 'coordinates': {'latitude': '81.6247', 'longitude': '59.6962'}, 'timezone': {'offset': '-4:00', 'description': 'Atlantic Time (Canada), Caracas, La Paz'}}, 'email': 'bill.reid@example.com', 'login': {'uuid': '7ebd467d-6bde-4fa4-bc52-5eb2bd3538d1', 'username': 'blackpeacock914', 'password': 'mongoose', 'salt': 'LzvmOi8a', 'md5': 'e08c539d431a5fe9489919bd1a63a6d3', 'sha1': '6bab501891fe20040d1230b02e20a1f96729cf3a', 'sha256': '9eff84ea100acb7ef74f6c6a34bff102f12dc51f28a43a7c6ec8fe3e9fc71b1b'}, 'dob': {'date': '1955-05-13T02:31:29Z', 'age': 63}, 'registered': {'date': '2008-10-02T08:08:23Z', 'age': 10}, 'phone': '(617)-122-3968', 'cell': '(558)-026-5568', 'id': {'name': 'SSN', 'value': '769-25-5900'}, 'picture': {'large': 'https://randomuser.me/api/portraits/men/61.jpg', 'medium': 'https://randomuser.me/api/portraits/med/men/61.jpg', 'thumbnail': 'https://randomuser.me/api/portraits/thumb/men/61.jpg'}, 'nat': 'US'}, {'gender': 'male', 'name': {'title': 'mr', 'first': 'herbert', 'last': 'coleman'}, 'location': {'street': '3723 adams st', 'city': 'des moines', 'state': 'connecticut', 'postcode': 86219, 'coordinates': {'latitude': '80.4966', 'longitude': '-37.6379'}, 'timezone': {'offset': '-6:00', 'description': 'Central Time (US & Canada), Mexico City'}}, 'email': 'herbert.coleman@example.com', 'login': {'uuid': '8e33b3c0-5605-487f-92f1-cfd50e7ff8b6', 'username': 'lazyladybug704', 'password': '1974', 'salt': 'XUJhOtgF', 'md5': '21421acc08cdc533f0170af5c1b04373', 'sha1': '27c4b97a3d6c4140b933cee90b46210efa60c8d1', 'sha256': 'aa7ae81be46b8d26c84a3091eae100bb986ebce277d8f08ab63ba377eb93209b'}, 'dob': {'date': '1961-09-25T08:27:44Z', 'age': 57}, 'registered': {'date': '2011-11-18T10:02:08Z', 'age': 7}, 'phone': '(598)-626-3152', 'cell': '(862)-196-7841', 'id': {'name': 'SSN', 'value': '371-15-4357'}, 'picture': {'large': 'https://randomuser.me/api/portraits/men/12.jpg', 'medium': 'https://randomuser.me/api/portraits/med/men/12.jpg', 'thumbnail': 'https://randomuser.me/api/portraits/thumb/men/12.jpg'}, 'nat': 'US'}, {'gender': 'male', 'name': {'title': 'mr', 'first': 'wyatt', 'last': 'nguyen'}, 'location': {'street': '3183 e pecan st', 'city': 'frisco', 'state': 'nebraska', 'postcode': 75254, 'coordinates': {'latitude': '-31.2207', 'longitude': '5.9166'}, 'timezone': {'offset': '+3:00', 'description': 'Baghdad, Riyadh, Moscow, St. Petersburg'}}, 'email': 'wyatt.nguyen@example.com', 'login': {'uuid': 'f526a4f2-2aa7-4322-ad31-e5fd11f84118', 'username': 'happybear987', 'password': 'otis', 'salt': 'jm2VpFZQ', 'md5': 'ee00969587ac7cc55fd65b747467255d', 'sha1': '06780eb97886d09b3f2aa36240901d1776362a83', 'sha256': '755cae3d6c97aa8cf58e453bcabfa95005d8785cb67f2c6d3607fe1ab80dd7c3'}, 'dob': {'date': '1979-01-12T12:37:47Z', 'age': 40}, 'registered': {'date': '2006-12-24T12:29:15Z', 'age': 12}, 'phone': '(012)-094-7455', 'cell': '(553)-799-3797', 'id': {'name': 'SSN', 'value': '084-39-2567'}, 'picture': {'large': 'https://randomuser.me/api/portraits/men/2.jpg', 'medium': 'https://randomuser.me/api/portraits/med/men/2.jpg', 'thumbnail': 'https://randomuser.me/api/portraits/thumb/men/2.jpg'}, 'nat': 'US'}], 'info': {'seed': 'e3573cbe224009f5', 'results': 10, 'page': 1, 'version': '1.2'}}\n"
     ]
    }
   ],
   "source": [
    "print(data)"
   ]
  },
  {
   "cell_type": "markdown",
   "metadata": {},
   "source": [
    "* *pretty-print* (pprint) prints complex data structures like dictionary prettier.  https://docs.python.org/3/library/pprint.html "
   ]
  },
  {
   "cell_type": "code",
   "execution_count": 11,
   "metadata": {},
   "outputs": [
    {
     "name": "stdout",
     "output_type": "stream",
     "text": [
      "{'info': {'page': 1,\n",
      "          'results': 10,\n",
      "          'seed': 'e3573cbe224009f5',\n",
      "          'version': '1.2'},\n",
      " 'results': [{'cell': '(556)-990-5466',\n",
      "              'dob': {'age': 35, 'date': '1983-11-23T00:13:10Z'},\n",
      "              'email': 'bernard.willis@example.com',\n",
      "              'gender': 'male',\n",
      "              'id': {'name': 'SSN', 'value': '229-63-5979'},\n",
      "              'location': {'city': 'miramar',\n",
      "                           'coordinates': {'latitude': '-54.9621',\n",
      "                                           'longitude': '-149.4567'},\n",
      "                           'postcode': 32279,\n",
      "                           'state': 'new york',\n",
      "                           'street': '8466 camden ave',\n",
      "                           'timezone': {'description': 'Brussels, Copenhagen, '\n",
      "                                                       'Madrid, Paris',\n",
      "                                        'offset': '+1:00'}},\n",
      "              'login': {'md5': '2b20eda199d937ac3680754b755530a6',\n",
      "                        'password': 'report',\n",
      "                        'salt': 'zpwL3DCo',\n",
      "                        'sha1': 'f81faa48575549704cbce1b445a99d0489992e07',\n",
      "                        'sha256': '0c8d93973444c6b49267514759b3fd3a970b606d2420ff7c874034c7a98f411f',\n",
      "                        'username': 'smallrabbit958',\n",
      "                        'uuid': 'f7d19a36-359d-4773-bccf-bcca596fc3da'},\n",
      "              'name': {'first': 'bernard', 'last': 'willis', 'title': 'mr'},\n",
      "              'nat': 'US',\n",
      "              'phone': '(635)-397-2861',\n",
      "              'picture': {'large': 'https://randomuser.me/api/portraits/men/79.jpg',\n",
      "                          'medium': 'https://randomuser.me/api/portraits/med/men/79.jpg',\n",
      "                          'thumbnail': 'https://randomuser.me/api/portraits/thumb/men/79.jpg'},\n",
      "              'registered': {'age': 4, 'date': '2014-08-26T02:23:50Z'}},\n",
      "             {'cell': '(623)-978-7752',\n",
      "              'dob': {'age': 47, 'date': '1971-10-12T15:56:11Z'},\n",
      "              'email': 'benjamin.craig@example.com',\n",
      "              'gender': 'male',\n",
      "              'id': {'name': 'SSN', 'value': '818-51-6462'},\n",
      "              'location': {'city': 'norfolk',\n",
      "                           'coordinates': {'latitude': '-66.1418',\n",
      "                                           'longitude': '0.6463'},\n",
      "                           'postcode': 36302,\n",
      "                           'state': 'vermont',\n",
      "                           'street': '58 paddock way',\n",
      "                           'timezone': {'description': 'Eastern Time (US & '\n",
      "                                                       'Canada), Bogota, Lima',\n",
      "                                        'offset': '-5:00'}},\n",
      "              'login': {'md5': '1c076de2494764b7f7f4664ae8f0ec99',\n",
      "                        'password': 'chantal',\n",
      "                        'salt': 'qsZoFT2Y',\n",
      "                        'sha1': '76ba5ae8ebc969f713fb880e202cef2aa684ef15',\n",
      "                        'sha256': '3b50847172c09972e13ea370e83c48c2c3a27a30618b662a8ebe68a23552ca5f',\n",
      "                        'username': 'silverfish933',\n",
      "                        'uuid': '9aef187a-933e-4a59-bcf2-124099e444d3'},\n",
      "              'name': {'first': 'benjamin', 'last': 'craig', 'title': 'mr'},\n",
      "              'nat': 'US',\n",
      "              'phone': '(643)-417-2596',\n",
      "              'picture': {'large': 'https://randomuser.me/api/portraits/men/74.jpg',\n",
      "                          'medium': 'https://randomuser.me/api/portraits/med/men/74.jpg',\n",
      "                          'thumbnail': 'https://randomuser.me/api/portraits/thumb/men/74.jpg'},\n",
      "              'registered': {'age': 8, 'date': '2010-05-31T14:00:55Z'}},\n",
      "             {'cell': '(816)-536-2359',\n",
      "              'dob': {'age': 72, 'date': '1946-07-20T01:59:08Z'},\n",
      "              'email': 'warren.price@example.com',\n",
      "              'gender': 'male',\n",
      "              'id': {'name': 'SSN', 'value': '134-77-0108'},\n",
      "              'location': {'city': 'ennis',\n",
      "                           'coordinates': {'latitude': '1.8454',\n",
      "                                           'longitude': '83.2710'},\n",
      "                           'postcode': 14835,\n",
      "                           'state': 'missouri',\n",
      "                           'street': '1222 wycliff ave',\n",
      "                           'timezone': {'description': 'Midway Island, Samoa',\n",
      "                                        'offset': '-11:00'}},\n",
      "              'login': {'md5': 'c05b1579a6abc8c349441c467fbc2fdc',\n",
      "                        'password': 'doit',\n",
      "                        'salt': 'MXq8JSxs',\n",
      "                        'sha1': '1e0fb6b7c1ea8c8eb90de3fbd6b11a0326dc0348',\n",
      "                        'sha256': '5d6b64dca6cdefa21093c469249835cf5c77696d462f2c280d3a9da14237b47c',\n",
      "                        'username': 'orangekoala425',\n",
      "                        'uuid': 'dd3c4e88-ba75-471c-b8e9-946ebdbc83d2'},\n",
      "              'name': {'first': 'warren', 'last': 'price', 'title': 'mr'},\n",
      "              'nat': 'US',\n",
      "              'phone': '(929)-845-1872',\n",
      "              'picture': {'large': 'https://randomuser.me/api/portraits/men/88.jpg',\n",
      "                          'medium': 'https://randomuser.me/api/portraits/med/men/88.jpg',\n",
      "                          'thumbnail': 'https://randomuser.me/api/portraits/thumb/men/88.jpg'},\n",
      "              'registered': {'age': 3, 'date': '2015-07-06T17:21:00Z'}},\n",
      "             {'cell': '(363)-179-1841',\n",
      "              'dob': {'age': 33, 'date': '1985-11-22T13:06:35Z'},\n",
      "              'email': 'rene.steward@example.com',\n",
      "              'gender': 'male',\n",
      "              'id': {'name': 'SSN', 'value': '199-82-2777'},\n",
      "              'location': {'city': 'helena',\n",
      "                           'coordinates': {'latitude': '54.8948',\n",
      "                                           'longitude': '35.6127'},\n",
      "                           'postcode': 36971,\n",
      "                           'state': 'alabama',\n",
      "                           'street': '2595 lakeshore rd',\n",
      "                           'timezone': {'description': 'Almaty, Dhaka, Colombo',\n",
      "                                        'offset': '+6:00'}},\n",
      "              'login': {'md5': '9a89f41e919898bf0fa63a5b85b28125',\n",
      "                        'password': 'closeup',\n",
      "                        'salt': '2N0aULhp',\n",
      "                        'sha1': '7db10f1cc8a537db837c9062cbce4a3f3127e81e',\n",
      "                        'sha256': '275313c83b2d5c3bf98f4a3aeda8c130d4493b245dfcde445aa063a4414a7710',\n",
      "                        'username': 'silverostrich611',\n",
      "                        'uuid': '296a31fb-01f4-4709-84f9-b5449650def3'},\n",
      "              'name': {'first': 'rene', 'last': 'steward', 'title': 'mr'},\n",
      "              'nat': 'US',\n",
      "              'phone': '(958)-451-4865',\n",
      "              'picture': {'large': 'https://randomuser.me/api/portraits/men/4.jpg',\n",
      "                          'medium': 'https://randomuser.me/api/portraits/med/men/4.jpg',\n",
      "                          'thumbnail': 'https://randomuser.me/api/portraits/thumb/men/4.jpg'},\n",
      "              'registered': {'age': 4, 'date': '2015-01-29T10:55:42Z'}},\n",
      "             {'cell': '(622)-731-3871',\n",
      "              'dob': {'age': 49, 'date': '1969-10-05T12:24:30Z'},\n",
      "              'email': 'wallace.stone@example.com',\n",
      "              'gender': 'male',\n",
      "              'id': {'name': 'SSN', 'value': '781-32-5809'},\n",
      "              'location': {'city': 'fargo',\n",
      "                           'coordinates': {'latitude': '81.3789',\n",
      "                                           'longitude': '128.5839'},\n",
      "                           'postcode': 15491,\n",
      "                           'state': 'west virginia',\n",
      "                           'street': '8824 fairview st',\n",
      "                           'timezone': {'description': 'Eniwetok, Kwajalein',\n",
      "                                        'offset': '-12:00'}},\n",
      "              'login': {'md5': '8b275c5a49e38a80d8aa5fd9022e0759',\n",
      "                        'password': 'onetime',\n",
      "                        'salt': 'QG9qwtGy',\n",
      "                        'sha1': '37d05ddb5f8ee9593d64801c110d1ead2a7a1d04',\n",
      "                        'sha256': '0c059917feb27f96eb54f8015dbdaf2e18b5031a258671e1cba86ac0d6cbc69c',\n",
      "                        'username': 'greenwolf699',\n",
      "                        'uuid': '782ec3e2-a94a-4468-b266-bc121d8cdc46'},\n",
      "              'name': {'first': 'wallace', 'last': 'stone', 'title': 'mr'},\n",
      "              'nat': 'US',\n",
      "              'phone': '(824)-484-7899',\n",
      "              'picture': {'large': 'https://randomuser.me/api/portraits/men/72.jpg',\n",
      "                          'medium': 'https://randomuser.me/api/portraits/med/men/72.jpg',\n",
      "                          'thumbnail': 'https://randomuser.me/api/portraits/thumb/men/72.jpg'},\n",
      "              'registered': {'age': 2, 'date': '2016-11-03T01:22:34Z'}},\n",
      "             {'cell': '(931)-462-9116',\n",
      "              'dob': {'age': 24, 'date': '1994-10-11T20:37:32Z'},\n",
      "              'email': 'julio.tucker@example.com',\n",
      "              'gender': 'male',\n",
      "              'id': {'name': 'SSN', 'value': '642-11-1810'},\n",
      "              'location': {'city': 'coppell',\n",
      "                           'coordinates': {'latitude': '-17.4015',\n",
      "                                           'longitude': '-176.2962'},\n",
      "                           'postcode': 14550,\n",
      "                           'state': 'rhode island',\n",
      "                           'street': '2127 shady ln dr',\n",
      "                           'timezone': {'description': 'Mountain Time (US & '\n",
      "                                                       'Canada)',\n",
      "                                        'offset': '-7:00'}},\n",
      "              'login': {'md5': 'c4b0c9365251bbb8bab30146714a80e2',\n",
      "                        'password': 'bugger',\n",
      "                        'salt': 'uAcvHC0h',\n",
      "                        'sha1': 'c3492ce25e6533eaf56e48b7c86e41a97797c8c7',\n",
      "                        'sha256': 'c2354a988647af72743eb091f012f0979b137ed79f406ee51962acaa968c2c12',\n",
      "                        'username': 'yellowbutterfly797',\n",
      "                        'uuid': '4daf0c91-33ca-49cc-8f9e-7827ca85b42c'},\n",
      "              'name': {'first': 'julio', 'last': 'tucker', 'title': 'mr'},\n",
      "              'nat': 'US',\n",
      "              'phone': '(084)-995-6435',\n",
      "              'picture': {'large': 'https://randomuser.me/api/portraits/men/36.jpg',\n",
      "                          'medium': 'https://randomuser.me/api/portraits/med/men/36.jpg',\n",
      "                          'thumbnail': 'https://randomuser.me/api/portraits/thumb/men/36.jpg'},\n",
      "              'registered': {'age': 3, 'date': '2015-09-21T05:53:34Z'}},\n",
      "             {'cell': '(179)-535-8704',\n",
      "              'dob': {'age': 70, 'date': '1949-03-02T07:47:24Z'},\n",
      "              'email': 'freddie.wood@example.com',\n",
      "              'gender': 'male',\n",
      "              'id': {'name': 'SSN', 'value': '439-19-7708'},\n",
      "              'location': {'city': 'visalia',\n",
      "                           'coordinates': {'latitude': '73.7467',\n",
      "                                           'longitude': '-140.5487'},\n",
      "                           'postcode': 36608,\n",
      "                           'state': 'nebraska',\n",
      "                           'street': '913 cherry st',\n",
      "                           'timezone': {'description': 'Beijing, Perth, '\n",
      "                                                       'Singapore, Hong Kong',\n",
      "                                        'offset': '+8:00'}},\n",
      "              'login': {'md5': '40cf8290b952b305f84e515f01efab90',\n",
      "                        'password': 'suicide',\n",
      "                        'salt': 'eeHZhWmO',\n",
      "                        'sha1': '5a3644871730476e5d7b2462625eb86a87be66ec',\n",
      "                        'sha256': 'b4dd0c1efffa95c73d6c3476d110ae52c11a2c03bd88e3c91844f6dfcf4ce3d6',\n",
      "                        'username': 'yellowbird598',\n",
      "                        'uuid': 'e622fed3-4bbb-46fe-8e44-f0a8f45586a6'},\n",
      "              'name': {'first': 'freddie', 'last': 'wood', 'title': 'mr'},\n",
      "              'nat': 'US',\n",
      "              'phone': '(153)-389-7802',\n",
      "              'picture': {'large': 'https://randomuser.me/api/portraits/men/75.jpg',\n",
      "                          'medium': 'https://randomuser.me/api/portraits/med/men/75.jpg',\n",
      "                          'thumbnail': 'https://randomuser.me/api/portraits/thumb/men/75.jpg'},\n",
      "              'registered': {'age': 14, 'date': '2004-11-22T22:26:49Z'}},\n",
      "             {'cell': '(558)-026-5568',\n",
      "              'dob': {'age': 63, 'date': '1955-05-13T02:31:29Z'},\n",
      "              'email': 'bill.reid@example.com',\n",
      "              'gender': 'male',\n",
      "              'id': {'name': 'SSN', 'value': '769-25-5900'},\n",
      "              'location': {'city': 'joliet',\n",
      "                           'coordinates': {'latitude': '81.6247',\n",
      "                                           'longitude': '59.6962'},\n",
      "                           'postcode': 40584,\n",
      "                           'state': 'maryland',\n",
      "                           'street': '7490 shady ln dr',\n",
      "                           'timezone': {'description': 'Atlantic Time '\n",
      "                                                       '(Canada), Caracas, La '\n",
      "                                                       'Paz',\n",
      "                                        'offset': '-4:00'}},\n",
      "              'login': {'md5': 'e08c539d431a5fe9489919bd1a63a6d3',\n",
      "                        'password': 'mongoose',\n",
      "                        'salt': 'LzvmOi8a',\n",
      "                        'sha1': '6bab501891fe20040d1230b02e20a1f96729cf3a',\n",
      "                        'sha256': '9eff84ea100acb7ef74f6c6a34bff102f12dc51f28a43a7c6ec8fe3e9fc71b1b',\n",
      "                        'username': 'blackpeacock914',\n",
      "                        'uuid': '7ebd467d-6bde-4fa4-bc52-5eb2bd3538d1'},\n",
      "              'name': {'first': 'bill', 'last': 'reid', 'title': 'mr'},\n",
      "              'nat': 'US',\n",
      "              'phone': '(617)-122-3968',\n",
      "              'picture': {'large': 'https://randomuser.me/api/portraits/men/61.jpg',\n",
      "                          'medium': 'https://randomuser.me/api/portraits/med/men/61.jpg',\n",
      "                          'thumbnail': 'https://randomuser.me/api/portraits/thumb/men/61.jpg'},\n",
      "              'registered': {'age': 10, 'date': '2008-10-02T08:08:23Z'}},\n",
      "             {'cell': '(862)-196-7841',\n",
      "              'dob': {'age': 57, 'date': '1961-09-25T08:27:44Z'},\n",
      "              'email': 'herbert.coleman@example.com',\n",
      "              'gender': 'male',\n",
      "              'id': {'name': 'SSN', 'value': '371-15-4357'},\n",
      "              'location': {'city': 'des moines',\n",
      "                           'coordinates': {'latitude': '80.4966',\n",
      "                                           'longitude': '-37.6379'},\n",
      "                           'postcode': 86219,\n",
      "                           'state': 'connecticut',\n",
      "                           'street': '3723 adams st',\n",
      "                           'timezone': {'description': 'Central Time (US & '\n",
      "                                                       'Canada), Mexico City',\n",
      "                                        'offset': '-6:00'}},\n",
      "              'login': {'md5': '21421acc08cdc533f0170af5c1b04373',\n",
      "                        'password': '1974',\n",
      "                        'salt': 'XUJhOtgF',\n",
      "                        'sha1': '27c4b97a3d6c4140b933cee90b46210efa60c8d1',\n",
      "                        'sha256': 'aa7ae81be46b8d26c84a3091eae100bb986ebce277d8f08ab63ba377eb93209b',\n",
      "                        'username': 'lazyladybug704',\n",
      "                        'uuid': '8e33b3c0-5605-487f-92f1-cfd50e7ff8b6'},\n",
      "              'name': {'first': 'herbert', 'last': 'coleman', 'title': 'mr'},\n",
      "              'nat': 'US',\n",
      "              'phone': '(598)-626-3152',\n",
      "              'picture': {'large': 'https://randomuser.me/api/portraits/men/12.jpg',\n",
      "                          'medium': 'https://randomuser.me/api/portraits/med/men/12.jpg',\n",
      "                          'thumbnail': 'https://randomuser.me/api/portraits/thumb/men/12.jpg'},\n",
      "              'registered': {'age': 7, 'date': '2011-11-18T10:02:08Z'}},\n",
      "             {'cell': '(553)-799-3797',\n",
      "              'dob': {'age': 40, 'date': '1979-01-12T12:37:47Z'},\n",
      "              'email': 'wyatt.nguyen@example.com',\n",
      "              'gender': 'male',\n",
      "              'id': {'name': 'SSN', 'value': '084-39-2567'},\n",
      "              'location': {'city': 'frisco',\n",
      "                           'coordinates': {'latitude': '-31.2207',\n",
      "                                           'longitude': '5.9166'},\n",
      "                           'postcode': 75254,\n",
      "                           'state': 'nebraska',\n",
      "                           'street': '3183 e pecan st',\n",
      "                           'timezone': {'description': 'Baghdad, Riyadh, '\n",
      "                                                       'Moscow, St. Petersburg',\n",
      "                                        'offset': '+3:00'}},\n",
      "              'login': {'md5': 'ee00969587ac7cc55fd65b747467255d',\n",
      "                        'password': 'otis',\n",
      "                        'salt': 'jm2VpFZQ',\n",
      "                        'sha1': '06780eb97886d09b3f2aa36240901d1776362a83',\n",
      "                        'sha256': '755cae3d6c97aa8cf58e453bcabfa95005d8785cb67f2c6d3607fe1ab80dd7c3',\n",
      "                        'username': 'happybear987',\n",
      "                        'uuid': 'f526a4f2-2aa7-4322-ad31-e5fd11f84118'},\n",
      "              'name': {'first': 'wyatt', 'last': 'nguyen', 'title': 'mr'},\n",
      "              'nat': 'US',\n",
      "              'phone': '(012)-094-7455',\n",
      "              'picture': {'large': 'https://randomuser.me/api/portraits/men/2.jpg',\n",
      "                          'medium': 'https://randomuser.me/api/portraits/med/men/2.jpg',\n",
      "                          'thumbnail': 'https://randomuser.me/api/portraits/thumb/men/2.jpg'},\n",
      "              'registered': {'age': 12, 'date': '2006-12-24T12:29:15Z'}}]}\n"
     ]
    }
   ],
   "source": [
    "from pprint import pprint\n",
    "pprint(data)"
   ]
  },
  {
   "cell_type": "markdown",
   "metadata": {},
   "source": [
    "* Loop through the dictionary and print all first names"
   ]
  },
  {
   "cell_type": "code",
   "execution_count": 13,
   "metadata": {},
   "outputs": [
    {
     "name": "stdout",
     "output_type": "stream",
     "text": [
      "<class 'dict'>\n"
     ]
    }
   ],
   "source": [
    "print(type(data))"
   ]
  },
  {
   "cell_type": "code",
   "execution_count": 19,
   "metadata": {
    "scrolled": true
   },
   "outputs": [
    {
     "name": "stdout",
     "output_type": "stream",
     "text": [
      "bernard\n",
      "benjamin\n",
      "warren\n",
      "rene\n",
      "wallace\n",
      "julio\n",
      "freddie\n",
      "bill\n",
      "herbert\n",
      "wyatt\n"
     ]
    }
   ],
   "source": [
    "res = data.get('results', {})\n",
    "for item in res:\n",
    "    name = item.get('name', {}).get('first', {})\n",
    "    print(name)"
   ]
  },
  {
   "cell_type": "markdown",
   "metadata": {},
   "source": [
    "* Get all astronauts who are right now in space. You get the information about the Web APU from here  http://open-notify.org/Open-Notify-API/People-In-Space/ "
   ]
  },
  {
   "cell_type": "code",
   "execution_count": 26,
   "metadata": {},
   "outputs": [
    {
     "name": "stdout",
     "output_type": "stream",
     "text": [
      "6\n"
     ]
    }
   ],
   "source": [
    "res = requests.get('http://api.open-notify.org/astros.json')\n",
    "data = json.loads(res.text)\n",
    "print(data.get('number', {}))"
   ]
  },
  {
   "cell_type": "markdown",
   "metadata": {},
   "source": [
    "* Print the number of people that are right now in space"
   ]
  },
  {
   "cell_type": "code",
   "execution_count": 28,
   "metadata": {},
   "outputs": [
    {
     "name": "stdout",
     "output_type": "stream",
     "text": [
      "Oleg Kononenko\n",
      "David Saint-Jacques\n",
      "Anne McClain\n",
      "Alexey Ovchinin\n",
      "Nick Hague\n",
      "Christina Koch\n"
     ]
    }
   ],
   "source": [
    "ppl = data.get('people', {})\n",
    "for item in ppl:\n",
    "    print(item.get('name', {}))"
   ]
  },
  {
   "cell_type": "markdown",
   "metadata": {},
   "source": [
    "* Print the names of all astronauts "
   ]
  },
  {
   "cell_type": "markdown",
   "metadata": {},
   "source": [
    "* A lot of Web APIs require a api-key for interacting with them (like Twitter, Facebook, …). You find at http://www.python-requests.org/en/latest/user/authentication/ more information for Authentication for Web APIs with the request package\n",
    "* There are also special Python packages for interacting with services. E.g. for Twitter: http://www.tweepy.org/ or  https://github.com/bear/python-twitter \n",
    "\n",
    "See e.g. http://socialmedia-class.org/twittertutorial.html for a tutorial"
   ]
  },
  {
   "cell_type": "markdown",
   "metadata": {},
   "source": [
    "## 2. Creating a Web API\n",
    "\n",
    "* Create a folder `webapi` and change into it.\n",
    "* Create in the `webapi` folder a file with the name `Dockerfile` with the following content:\n",
    "\n",
    "----\n",
    "```bash\n",
    "# Use an official Python runtime as a parent image\n",
    "FROM python:3.7-slim\n",
    "\n",
    "# Set the working directory to /app\n",
    "WORKDIR /app\n",
    "\n",
    "# Copy the current directory contents into the container at /app\n",
    "COPY app/ /app\n",
    "\n",
    "# Install any needed packages specified in requirements.txt\n",
    "RUN pip install --trusted-host pypi.python.org -r requirements.txt\n",
    "\n",
    "# Make port 80 available to the world outside this container\n",
    "EXPOSE 80\n",
    "\n",
    "# Run app.py when the container launches\n",
    "CMD [\"python\", \"app.py\"]\n",
    "```\n",
    "\n",
    "-----\n",
    "\n",
    "* We can also use Docker compose with just one service. Create in your `webapi` folder a `docker-compose.yml` file:\n",
    "\n",
    "-----\n",
    "\n",
    "```yaml\n",
    "version: '3'\n",
    "services:\n",
    "  api:\n",
    "    build: .\n",
    "    ports:\n",
    "      - \"5000:80\"\n",
    "    restart: always\n",
    "    volumes:\n",
    "      - ./app:/app\n",
    "```\n",
    "-----\n",
    "\n",
    "* Create a folder in the `webapi` folder a new folder with the name `app`\n",
    "* We will build a web API with `Flask` (http://flask.pocoo.org/) . Create a `requirements.txt` file in the `app` folder. Here we can specify all python `pip` packages that we need:\n",
    "\n",
    "-----\n",
    "```bash\n",
    "Flask\n",
    "```\n",
    "-----\n",
    "\n",
    "* Create the `app.py` file in the `app` folder:\n",
    "\n",
    "-----\n",
    "```python\n",
    "from flask import Flask\n",
    "from flask import request, jsonify\n",
    "\n",
    "app = Flask(__name__)\n",
    "\n",
    "courses = [\n",
    "    {'id': 0,\n",
    "     'title': 'Data Science',\n",
    "     'professor': 'Markus Löcher',\n",
    "     'semester': '1'},\n",
    "    {'id': 1,\n",
    "     'title': 'Data Warehousing',\n",
    "     'professor': 'Roland M. Mueller',\n",
    "     'semester': '1'},\n",
    "    {'id': 2,\n",
    "     'title': 'Business Process Management',\n",
    "     'professor': 'Frank Habermann',\n",
    "     'semester': '1'},\n",
    "    {'id': 3,\n",
    "     'title': 'Stratigic Issues of IT',\n",
    "     'professor': 'Sven Pohland',\n",
    "     'semester': '1'},\n",
    "    {'id': 4,\n",
    "     'title': 'Text, Web and Social Media Analytics Lab',\n",
    "     'professor': 'Markus Löcher',\n",
    "     'semester': '2'},\n",
    "    {'id': 5,\n",
    "     'title': 'Enterprise Architectures for Big Data',\n",
    "     'professor': 'Roland M. Mueller',\n",
    "     'semester': '2'},\n",
    "    {'id': 6,\n",
    "     'title': 'Business Process Integration Lab',\n",
    "     'professor': 'Frank Habermann',\n",
    "     'semester': '2'},\n",
    "    {'id': 7,\n",
    "     'title': 'IT-Security and Privacy',\n",
    "     'professor': 'Dennis Uckel',\n",
    "     'semester': '2'},\n",
    "    {'id': 8,\n",
    "     'title': 'Research Methods',\n",
    "     'professor': 'Marcus Birkenkrahe',\n",
    "     'semester': '2'},\n",
    "]\n",
    "\n",
    "@app.route('/api/v1/courses/all', methods=['GET'])\n",
    "def api_all():\n",
    "    return jsonify(courses)\n",
    "\n",
    "@app.route('/api/v1/courses', methods=['GET'])\n",
    "def api_id():\n",
    "    # Check if an ID was provided as part of the URL.\n",
    "    # If ID is provided, assign it to a variable.\n",
    "    # If no ID is provided, display an error in the browser.\n",
    "    if 'id' in request.args:\n",
    "        id = int(request.args['id'])\n",
    "    else:\n",
    "        return \"Error: No id field provided. Please specify an id.\"\n",
    "\n",
    "    # Create an empty list for our results\n",
    "    results = []\n",
    "\n",
    "    # Loop through the data and match results that fit the requested ID.\n",
    "    # IDs are unique, but other fields might return many results\n",
    "    for course in courses:\n",
    "        if course['id'] == id:\n",
    "            results.append(course)\n",
    "\n",
    "    # Use the jsonify function from Flask to convert our list of\n",
    "    # Python dictionaries to the JSON format.\n",
    "    return jsonify(results)\n",
    "\n",
    "if __name__ == \"__main__\":\n",
    "    app.run(host=\"0.0.0.0\", port=80, debug=True)\n",
    "```\n",
    "-----\n",
    "* Open http://localhost:5000/api/v1/courses/all in a browser\n",
    "* Open http://localhost:5000/api/v1/courses?id=5 in a browser\n"
   ]
  },
  {
   "cell_type": "markdown",
   "metadata": {
    "collapsed": true
   },
   "source": [
    "* Use your own API here in the Jupyter Notebook with Python and print all names of all courses "
   ]
  },
  {
   "cell_type": "code",
   "execution_count": null,
   "metadata": {},
   "outputs": [],
   "source": [
    "res = requests.get('http://localhost:5000/api/v1/courses/all')\n",
    "data = json.loads(res.text)\n",
    "\n",
    "for item in data:\n",
    "    print(item.get('title', {}))"
   ]
  },
  {
   "cell_type": "markdown",
   "metadata": {},
   "source": [
    "* Add the possibility to find courses based on the semester\n",
    "* Use your API in Python and print all names of all courses in the second semester"
   ]
  },
  {
   "cell_type": "code",
   "execution_count": null,
   "metadata": {},
   "outputs": [],
   "source": [
    "res = requests.get('http://localhost:5000/api/v1/courses?semester=2')\n",
    "data = json.loads(res.text)\n",
    "\n",
    "for item in data:\n",
    "    print(item.get('title', {}))"
   ]
  },
  {
   "cell_type": "markdown",
   "metadata": {},
   "source": [
    "* Add a function that can convert Fahrenheit to Celsius \n",
    "* Call your API and get the Celsius value for 100°F Fahrenheit"
   ]
  },
  {
   "cell_type": "code",
   "execution_count": null,
   "metadata": {},
   "outputs": [],
   "source": [
    "res = requests.get('http://localhost:5000/api/v1/converter?degrees=100')\n",
    "print(res.text)"
   ]
  }
 ],
 "metadata": {
  "kernelspec": {
   "display_name": "Python 3",
   "language": "python",
   "name": "python3"
  },
  "language_info": {
   "codemirror_mode": {
    "name": "ipython",
    "version": 3
   },
   "file_extension": ".py",
   "mimetype": "text/x-python",
   "name": "python",
   "nbconvert_exporter": "python",
   "pygments_lexer": "ipython3",
   "version": "3.6.5"
  },
  "varInspector": {
   "cols": {
    "lenName": 16,
    "lenType": 16,
    "lenVar": 40
   },
   "kernels_config": {
    "python": {
     "delete_cmd_postfix": "",
     "delete_cmd_prefix": "del ",
     "library": "var_list.py",
     "varRefreshCmd": "print(var_dic_list())"
    },
    "r": {
     "delete_cmd_postfix": ") ",
     "delete_cmd_prefix": "rm(",
     "library": "var_list.r",
     "varRefreshCmd": "cat(var_dic_list()) "
    }
   },
   "types_to_exclude": [
    "module",
    "function",
    "builtin_function_or_method",
    "instance",
    "_Feature"
   ],
   "window_display": false
  }
 },
 "nbformat": 4,
 "nbformat_minor": 2
}
